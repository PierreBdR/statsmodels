{
 "metadata": {
  "name": "",
  "signature": "sha256:a5d421640b303074e040e195eac4a64c97cf2b6bf6ae17b58081920c0bb264bf"
 },
 "nbformat": 3,
 "nbformat_minor": 0,
 "worksheets": [
  {
   "cells": [
    {
     "cell_type": "code",
     "collapsed": false,
     "input": [
      "from __future__ import division, print_function\n",
      "%pylab inline\n",
      "from statsmodels.nonparametric import kernels\n",
      "from statsmodels.nonparametric.kde_utils import numpy_trans, Grid"
     ],
     "language": "python",
     "metadata": {},
     "outputs": []
    },
    {
     "cell_type": "code",
     "collapsed": false,
     "input": [
      "class Ker(kernels.KernelnD):\n",
      "    def __init__(self, ndim=2):\n",
      "        kernels.KernelnD.__init__(self, ndim)\n",
      "        self._pdf = kernels.normal_kernel(ndim)\n",
      "        \n",
      "    def for_ndim(self, n):\n",
      "        if n == self.ndim:\n",
      "            return self\n",
      "        return Ker(n)\n",
      "    \n",
      "    def pdf(self, z, out=None):\n",
      "        return self._pdf.pdf(z, out)\n",
      "    \n",
      "    __call__ = pdf"
     ],
     "language": "python",
     "metadata": {},
     "outputs": []
    },
    {
     "cell_type": "code",
     "collapsed": false,
     "input": [
      "xs = mgrid[-5:5:256j,-5:5:256j]\n",
      "grid = Grid(xs)\n",
      "P = (1., 1.)\n",
      "k = kernels.normal_kernel(2)\n",
      "k1 = Ker(2)\n",
      "print(P)"
     ],
     "language": "python",
     "metadata": {},
     "outputs": []
    },
    {
     "cell_type": "markdown",
     "metadata": {},
     "source": [
      "$$  A_k =  \\sum_{m=0}^{n-1} a_m \\exp\\left\\{-2\\pi i{mk \\over n}\\right\\}\n",
      "   \\qquad k = 0,\\ldots,n-1. $$"
     ]
    },
    {
     "cell_type": "code",
     "collapsed": false,
     "input": [
      "f = figure()\n",
      "f.set_size_inches(12, 9)\n",
      "pcolormesh(xs[0], xs[1], k.pdf(xs), cmap=cm.jet, shading='gouraud')\n",
      "axis('equal')\n",
      "xlim(-5, 5)\n",
      "ylim(-5, 5)\n",
      "colorbar()"
     ],
     "language": "python",
     "metadata": {},
     "outputs": []
    },
    {
     "cell_type": "heading",
     "level": 2,
     "metadata": {},
     "source": [
      "Testing FFT"
     ]
    },
    {
     "cell_type": "code",
     "collapsed": false,
     "input": [
      "dx = (1./(2*P[0]), 1./(2*P[1]))\n",
      "Ns = [256, 256]\n",
      "fs = Grid(kernels.rfftnfreq(Ns, dx)).full('C')\n",
      "f1 = k.rfft(Ns, dx)\n",
      "print(f1.min(), f1.max())\n",
      "print(tuple(f.max() for f in fs))"
     ],
     "language": "python",
     "metadata": {},
     "outputs": []
    },
    {
     "cell_type": "code",
     "collapsed": false,
     "input": [
      "f2 = k1.rfft(Ns, dx)"
     ],
     "language": "python",
     "metadata": {},
     "outputs": []
    },
    {
     "cell_type": "code",
     "collapsed": false,
     "input": [
      "#%timeit f2 = k1.fft(fs)\n",
      "#%timeit f2 = k1.fft(fs1)"
     ],
     "language": "python",
     "metadata": {},
     "outputs": []
    },
    {
     "cell_type": "code",
     "collapsed": false,
     "input": [
      "print('f1: ', f1.shape)\n",
      "print('f2: ', f2.shape)"
     ],
     "language": "python",
     "metadata": {},
     "outputs": []
    },
    {
     "cell_type": "code",
     "collapsed": false,
     "input": [
      "M = f1.shape[0]//2\n",
      "f = figure()\n",
      "f.set_size_inches(24, 12)\n",
      "ax1 = f.add_subplot(2,2,1)\n",
      "vmin = 0\n",
      "vmax = 1\n",
      "mm1 = pcolormesh(fs[0,:M], fs[1,:M], f2[:M].real, cmap=cm.jet, shading='gouraud', vmin=vmin, vmax=vmax)\n",
      "mm2 = pcolormesh(fs[0,M:], fs[1,M:], f2[M:].real, cmap=cm.jet, shading='gouraud', vmin=vmin, vmax=vmax)\n",
      "axis('equal')\n",
      "xlim(-P[0], P[0])\n",
      "ylim(0,P[1])\n",
      "colorbar()\n",
      "title('Real FFT')\n",
      "\n",
      "ax2 = f.add_subplot(2,2,2)\n",
      "vmin = f2.imag.min()\n",
      "vmax = f2.imag.max()\n",
      "mm1 = pcolormesh(fs[0,:M], fs[1,:M], f2[:M].imag, cmap=cm.jet, shading='gouraud', vmin=vmin, vmax=vmax)\n",
      "mm2 = pcolormesh(fs[0,M:], fs[1,M:], f2[M:].imag, cmap=cm.jet, shading='gouraud', vmin=vmin, vmax=vmax)\n",
      "axis('equal')\n",
      "title('Imag FFT')\n",
      "xlim(-P[0], P[0])\n",
      "ylim(0,P[1])\n",
      "colorbar()\n",
      "\n",
      "ax3 = f.add_subplot(2,2,3)\n",
      "df = f2.real - f1\n",
      "vmin = df.min()\n",
      "vmax = df.max()\n",
      "mm1 = pcolormesh(fs[0,:M], fs[1,:M], df[:M], cmap=cm.jet, shading='gouraud', vmin=vmin, vmax=vmax)\n",
      "mm2 = pcolormesh(fs[0,M:], fs[1,M:], df[M:], cmap=cm.jet, shading='gouraud', vmin=vmin, vmax=vmax)\n",
      "axis('equal')\n",
      "xlim(-P[0], P[0])\n",
      "ylim(0,P[1])\n",
      "colorbar()\n",
      "title('Real FFT diff')\n",
      "\n",
      "ax3 = f.add_subplot(2,2,4)\n",
      "vmin = 0\n",
      "vmax = 1\n",
      "mm1 = pcolormesh(fs[0,:M], fs[1,:M], f1[:M], cmap=cm.jet, shading='gouraud', vmin=vmin, vmax=vmax)\n",
      "mm2 = pcolormesh(fs[0,M:], fs[1,M:], f1[M:], cmap=cm.jet, shading='gouraud', vmin=vmin, vmax=vmax)\n",
      "axis('equal')\n",
      "xlim(-P[0], P[0])\n",
      "ylim(0,P[1])\n",
      "colorbar()\n",
      "title('Exact FFT')\n"
     ],
     "language": "python",
     "metadata": {},
     "outputs": []
    },
    {
     "cell_type": "heading",
     "level": 2,
     "metadata": {},
     "source": [
      "Trying fast linbin in nD"
     ]
    },
    {
     "cell_type": "code",
     "collapsed": false,
     "input": [
      "from __future__ import division, print_function\n",
      "%pylab inline\n",
      "from statsmodels.nonparametric import fast_linbin, kernels\n",
      "from scipy import stats"
     ],
     "language": "python",
     "metadata": {},
     "outputs": []
    },
    {
     "cell_type": "code",
     "collapsed": false,
     "input": [
      "N=1e6\n",
      "dist_x = stats.norm(0, 1)\n",
      "dist_y = stats.norm(0, 2)\n",
      "pts = c_[dist_x.rvs(N), dist_y.rvs(N)]\n",
      "#ws = 3*rand(N)\n",
      "ws = None\n",
      "total_weight = N\n",
      "low = np.floor(pts.min(axis=0))\n",
      "up = np.ceil(pts.max(axis=0))\n",
      "print(low, up)\n",
      "pts.shape"
     ],
     "language": "python",
     "metadata": {},
     "outputs": []
    },
    {
     "cell_type": "code",
     "collapsed": false,
     "input": [
      "bins, mesh = fast_linbin.fast_linbin_nd(pts, low, up, [128, 256], weights=ws, cyclic=1)\n",
      "print([m.shape for m in mesh])\n",
      "print(bins.shape)"
     ],
     "language": "python",
     "metadata": {},
     "outputs": []
    },
    {
     "cell_type": "code",
     "collapsed": false,
     "input": [
      "mesh2 = meshgrid(*mesh, indexing='ij')\n",
      "print(mesh2[0].shape,mesh2[1].shape, bins.shape)\n",
      "dm = Grid(mesh).interval()\n",
      "print(dm)\n",
      "da = prod(dm)\n",
      "normed_bins = bins / (total_weight*da)"
     ],
     "language": "python",
     "metadata": {},
     "outputs": []
    },
    {
     "cell_type": "code",
     "collapsed": false,
     "input": [
      "sum(bins), total_weight"
     ],
     "language": "python",
     "metadata": {},
     "outputs": []
    },
    {
     "cell_type": "code",
     "collapsed": false,
     "input": [
      "H, xedges, yedges = histogram2d(pts[:,0], pts[:,1], normed=True, weights=ws, bins=128, range=[[low[0], up[0]], [low[1], up[1]]])\n",
      "xh = (xedges[1:] + xedges[:-1])/2\n",
      "yh = (yedges[1:] + yedges[:-1])/2"
     ],
     "language": "python",
     "metadata": {},
     "outputs": []
    },
    {
     "cell_type": "markdown",
     "metadata": {},
     "source": [
      "Computing expected distributions:"
     ]
    },
    {
     "cell_type": "code",
     "collapsed": false,
     "input": [
      "expected_linbin = dist_x.pdf(mesh2[0]) * dist_y.pdf(mesh2[1])\n",
      "err_linbin = (normed_bins - expected_linbin)\n",
      "print(expected_linbin.shape)\n",
      "\n",
      "expected_hist = dist_x.pdf(xh) * dist_y.pdf(yh)[:,None]\n",
      "err_H = (H.T - expected_hist)\n",
      "print(expected_hist.shape)\n"
     ],
     "language": "python",
     "metadata": {},
     "outputs": []
    },
    {
     "cell_type": "code",
     "collapsed": false,
     "input": [
      "f = figure()\n",
      "f.set_size_inches(16,12)\n",
      "ax1 = f.add_subplot(2,2,1)\n",
      "pcolormesh(mesh2[0], mesh2[1], normed_bins, cmap=cm.jet, shading='flat')\n",
      "axis('equal')\n",
      "colorbar()\n",
      "xlim(low[0], up[0])\n",
      "ylim(low[1], up[1])\n",
      "title('Linear binning')\n",
      "\n",
      "ax2 = f.add_subplot(2,2,2)\n",
      "pcolormesh(xh, yh, H.T, cmap=cm.jet, shading='flat')\n",
      "axis('equal')\n",
      "xlim(low[0], up[0])\n",
      "ylim(low[1], up[1])\n",
      "colorbar()\n",
      "title(\"Numpy's Histogram\")\n",
      "\n",
      "ax1 = f.add_subplot(2,2,3)\n",
      "pcolormesh(mesh2[0], mesh2[1], err_linbin, cmap=cm.jet, shading='flat')\n",
      "axis('equal')\n",
      "colorbar()\n",
      "xlim(low[0], up[0])\n",
      "ylim(low[1], up[1])\n",
      "title('Error Linear binning')\n",
      "\n",
      "ax2 = f.add_subplot(2,2,4)\n",
      "xh = (xedges[1:] + xedges[:-1])/2\n",
      "yh = (yedges[1:] + yedges[:-1])/2\n",
      "pcolormesh(xh, yh, err_H, cmap=cm.jet, shading='flat')\n",
      "axis('equal')\n",
      "xlim(low[0], up[0])\n",
      "ylim(low[1], up[1])\n",
      "colorbar()\n",
      "title(\"Error Numpy's Histogram\")\n"
     ],
     "language": "python",
     "metadata": {},
     "outputs": []
    },
    {
     "cell_type": "code",
     "collapsed": false,
     "input": [
      "%timeit fast_linbin.fast_linbin_nd(pts, low, up, [512, 512], weights=ws, cyclic=1)"
     ],
     "language": "python",
     "metadata": {},
     "outputs": []
    },
    {
     "cell_type": "code",
     "collapsed": false,
     "input": [
      "%timeit fast_linbin.fast_bin_nd(pts, low, up, [512, 512], weights=ws, cyclic=1)"
     ],
     "language": "python",
     "metadata": {},
     "outputs": []
    },
    {
     "cell_type": "code",
     "collapsed": false,
     "input": [
      "%timeit H, xedges, yedges = histogram2d(pts[:,0], pts[:,1], weights=ws, normed=True, bins=[512, 512], range=[[low[0], up[0]], [low[1], up[1]]])"
     ],
     "language": "python",
     "metadata": {},
     "outputs": []
    },
    {
     "cell_type": "heading",
     "level": 3,
     "metadata": {},
     "source": [
      "Evaluation of the binning"
     ]
    },
    {
     "cell_type": "markdown",
     "metadata": {},
     "source": [
      "And we can see the linear binning is a better approximation of the density:"
     ]
    },
    {
     "cell_type": "code",
     "collapsed": false,
     "input": [
      "print(\"Error linbin = \", sqrt(sum((err_linbin)**2)))\n",
      "print(\"Error hist = \", sqrt(sum((err_H - H.T)**2)))"
     ],
     "language": "python",
     "metadata": {},
     "outputs": []
    },
    {
     "cell_type": "code",
     "collapsed": false,
     "input": [
      "try:\n",
      "    bins, mesh = fast_linbin.fast_linbin_nd(pts.T, low, up, 128, weights=ws, cyclic=1)\n",
      "    assert False, \"There should have been an error\"\n",
      "except ValueError as err:\n",
      "    print(\"ValueError: \", err)\n"
     ],
     "language": "python",
     "metadata": {},
     "outputs": []
    },
    {
     "cell_type": "code",
     "collapsed": false,
     "input": [],
     "language": "python",
     "metadata": {},
     "outputs": []
    }
   ],
   "metadata": {}
  }
 ]
}