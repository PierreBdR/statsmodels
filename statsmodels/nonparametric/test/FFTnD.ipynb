{
 "metadata": {
  "name": "",
  "signature": "sha256:0f7e1f3e6c50c7e50e998a67728d2391793561198c1ffc2927dad93a3da1f5b0"
 },
 "nbformat": 3,
 "nbformat_minor": 0,
 "worksheets": [
  {
   "cells": [
    {
     "cell_type": "code",
     "collapsed": false,
     "input": [
      "%pylab inline\n",
      "from statsmodels.nonparametric import kernels\n",
      "from statsmodels.nonparametric.kde_utils import numpy_trans\n",
      "rcParams['font.size'] = 13"
     ],
     "language": "python",
     "metadata": {},
     "outputs": []
    },
    {
     "cell_type": "code",
     "collapsed": false,
     "input": [
      "class Ker(kernels.KernelnD):\n",
      "    def __init__(self, ndim=2):\n",
      "        kernels.KernelnD.__init__(self, ndim)\n",
      "        self._pdf = kernels.normal_kernel(ndim)\n",
      "        \n",
      "    def for_ndim(self, n):\n",
      "        if n == self.ndim:\n",
      "            return self\n",
      "        return Ker(n)\n",
      "    \n",
      "    def pdf(self, z, out=None):\n",
      "        return self._pdf.pdf(z, out)\n",
      "    \n",
      "    __call__ = pdf"
     ],
     "language": "python",
     "metadata": {},
     "outputs": []
    },
    {
     "cell_type": "code",
     "collapsed": false,
     "input": [
      "xs = mgrid[-4:4:201j,-4:4:201j]\n",
      "P = 5\n",
      "fs_x = concatenate([linspace(0, P, 256, endpoint=True), linspace(-P, 0, 255, endpoint=False)])\n",
      "fs = np.array(meshgrid(fs_x, linspace(0, P, 256, endpoint=True), indexing='ij'))\n",
      "k = kernels.normal_kernel(2)\n",
      "k1 = Ker(2)\n",
      "print(fs.shape)"
     ],
     "language": "python",
     "metadata": {},
     "outputs": []
    },
    {
     "cell_type": "code",
     "collapsed": false,
     "input": [
      "f = figure()\n",
      "f.set_size_inches(12, 12)\n",
      "pcolormesh(xs[0], xs[1], k.pdf(xs), cmap=cm.jet, shading='gouraud')\n",
      "xlim(-4,4)\n",
      "ylim(-4,4)\n",
      "axis('equal')\n",
      "colorbar()"
     ],
     "language": "python",
     "metadata": {},
     "outputs": []
    },
    {
     "cell_type": "heading",
     "level": 2,
     "metadata": {},
     "source": [
      "Testing FFT"
     ]
    },
    {
     "cell_type": "code",
     "collapsed": false,
     "input": [
      "f1 = k.fft(fs)\n",
      "f2 = k1.fft(fs)"
     ],
     "language": "python",
     "metadata": {},
     "outputs": []
    },
    {
     "cell_type": "code",
     "collapsed": false,
     "input": [
      "print('f1: ', f1.shape)\n",
      "print('f2: ', f2.shape)"
     ],
     "language": "python",
     "metadata": {},
     "outputs": []
    },
    {
     "cell_type": "code",
     "collapsed": false,
     "input": [
      "f = figure()\n",
      "f.set_size_inches(24, 12)\n",
      "ax1 = f.add_subplot(2,2,1)\n",
      "vmin = 0\n",
      "vmax = 1\n",
      "mm1 = pcolormesh(fs[0,:255], fs[1,:255], f2[:255].real, cmap=cm.jet, shading='gouraud', vmin=vmin, vmax=vmax)\n",
      "mm2 = pcolormesh(fs[0,256:], fs[1,256:], f2[256:].real, cmap=cm.jet, shading='gouraud', vmin=vmin, vmax=vmax)\n",
      "axis('equal')\n",
      "xlim(-P, P)\n",
      "ylim(0,P)\n",
      "colorbar()\n",
      "title('Real FFT')\n",
      "\n",
      "ax2 = f.add_subplot(2,2,2)\n",
      "vmin = f2.imag.min()\n",
      "vmax = f2.imag.max()\n",
      "mm1 = pcolormesh(fs[0,:256], fs[1,:256], f2[:256].imag, cmap=cm.jet, shading='gouraud', vmin=vmin, vmax=vmax)\n",
      "mm2 = pcolormesh(fs[0,256:], fs[1,256:], f2[256:].imag, cmap=cm.jet, shading='gouraud', vmin=vmin, vmax=vmax)\n",
      "axis('equal')\n",
      "title('Imag FFT')\n",
      "xlim(-P, P)\n",
      "ylim(0,P)\n",
      "colorbar()\n",
      "\n",
      "ax3 = f.add_subplot(2,2,3)\n",
      "df = f2.real - f1\n",
      "vmin = df.min()\n",
      "vmax = df.max()\n",
      "mm1 = pcolormesh(fs[0,:256], fs[1,:256], df[:256], cmap=cm.jet, shading='gouraud', vmin=vmin, vmax=vmax)\n",
      "mm2 = pcolormesh(fs[0,256:], fs[1,256:], df[256:], cmap=cm.jet, shading='gouraud', vmin=vmin, vmax=vmax)\n",
      "axis('equal')\n",
      "xlim(-P, P)\n",
      "ylim(0,P)\n",
      "colorbar()\n",
      "title('Real FFT diff')\n"
     ],
     "language": "python",
     "metadata": {},
     "outputs": []
    },
    {
     "cell_type": "heading",
     "level": 2,
     "metadata": {},
     "source": [
      "Trying fast linbin in nD"
     ]
    },
    {
     "cell_type": "code",
     "collapsed": false,
     "input": [
      "%pylab inline\n",
      "from statsmodels.nonparametric import fast_linbin"
     ],
     "language": "python",
     "metadata": {},
     "outputs": []
    },
    {
     "cell_type": "code",
     "collapsed": false,
     "input": [
      "N=1e6\n",
      "pts = c_[randn(N), 2*randn(N)]\n",
      "ws = 3*rand(N)\n",
      "low = np.floor(pts.min(axis=0)).astype(float)\n",
      "up = np.ceil(pts.max(axis=0)).astype(float)\n",
      "print(low, up)\n",
      "pts.shape"
     ],
     "language": "python",
     "metadata": {},
     "outputs": []
    },
    {
     "cell_type": "code",
     "collapsed": false,
     "input": [
      "bins, mesh = fast_linbin.fast_bin_nd(pts, low, up, 256, weights=ws, cyclic=1)\n",
      "mesh2 = meshgrid(*mesh, indexing='ij')\n",
      "mesh2[0].shape,mesh2[1].shape, bins.shape"
     ],
     "language": "python",
     "metadata": {},
     "outputs": []
    },
    {
     "cell_type": "code",
     "collapsed": false,
     "input": [
      "sum(bins), sum(ws)"
     ],
     "language": "python",
     "metadata": {},
     "outputs": []
    },
    {
     "cell_type": "code",
     "collapsed": false,
     "input": [
      "f = figure()\n",
      "f.set_size_inches(8,6)\n",
      "mm1 = pcolormesh(mesh2[0], mesh2[1], bins, cmap=cm.jet, shading='gouraud')\n",
      "axis('equal')\n",
      "colorbar()\n",
      "xlim(low[0], up[0])\n",
      "ylim(low[1], up[1])"
     ],
     "language": "python",
     "metadata": {},
     "outputs": []
    },
    {
     "cell_type": "code",
     "collapsed": false,
     "input": [
      "H, xedges, yedges = histogram2d(pts[:,0], pts[:,1], weights=ws, bins=256, range=[[low[0], up[0]], [low[1], up[1]]])\n",
      "f = figure()\n",
      "f.set_size_inches(8,6)\n",
      "xh = (xedges[1:] + xedges[:-1])/2\n",
      "yh = (yedges[1:] + yedges[:-1])/2\n",
      "pcolormesh(xh, yh, H.T, cmap=cm.jet, shading='flat')\n",
      "axis('equal')\n",
      "xlim(low[0], up[0])\n",
      "ylim(low[1], up[1])\n",
      "colorbar()"
     ],
     "language": "python",
     "metadata": {},
     "outputs": []
    },
    {
     "cell_type": "code",
     "collapsed": false,
     "input": [
      "%timeit fast_linbin.fast_linbin_nd(pts, low, up, [512, 512], weights=ws, cyclic=1)"
     ],
     "language": "python",
     "metadata": {},
     "outputs": []
    },
    {
     "cell_type": "code",
     "collapsed": false,
     "input": [
      "%prun -s tottime fast_linbin.fast_linbin_nd(pts, low, up, [256, 256], weights=ws, cyclic=1)"
     ],
     "language": "python",
     "metadata": {},
     "outputs": []
    },
    {
     "cell_type": "code",
     "collapsed": false,
     "input": [
      "%timeit H, xedges, yedges = histogram2d(pts[:,0], pts[:,1], weights=ws, normed=True, bins=[512, 512], range=[[low[0], up[0]], [low[1], up[1]]])"
     ],
     "language": "python",
     "metadata": {},
     "outputs": []
    },
    {
     "cell_type": "code",
     "collapsed": false,
     "input": [],
     "language": "python",
     "metadata": {},
     "outputs": []
    }
   ],
   "metadata": {}
  }
 ]
}