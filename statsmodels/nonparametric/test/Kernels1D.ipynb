{
 "metadata": {
  "name": "",
  "signature": "sha256:c08767ea32a7aed86b9df10357ed000ef585b8af11b89fe0f1d2700395137935"
 },
 "nbformat": 3,
 "nbformat_minor": 0,
 "worksheets": [
  {
   "cells": [
    {
     "cell_type": "code",
     "collapsed": false,
     "input": [
      "%pylab inline\n",
      "from __future__ import print_function, division\n",
      "from statsmodels.nonparametric import kernels\n",
      "from statsmodels.nonparametric.kde_utils import numpy_trans1d_method\n",
      "from scipy import fftpack"
     ],
     "language": "python",
     "metadata": {},
     "outputs": []
    },
    {
     "cell_type": "code",
     "collapsed": false,
     "input": [
      "k = kernels.Epanechnikov()\n",
      "xs = r_[-6:6:2048j]"
     ],
     "language": "python",
     "metadata": {},
     "outputs": []
    },
    {
     "cell_type": "code",
     "collapsed": true,
     "input": [
      "plot(xs, k(xs))"
     ],
     "language": "python",
     "metadata": {},
     "outputs": []
    },
    {
     "cell_type": "code",
     "collapsed": false,
     "input": [
      "class Ker(kernels.Kernel1D):\n",
      "    def __init__(self):\n",
      "        global k\n",
      "        self.lower = k.lower\n",
      "        self.upper = k.upper\n",
      "        self.cut = k.cut\n",
      "        self.k = k\n",
      "    def pdf(self, x, out=None):\n",
      "        return self.k.pdf(x, out)\n",
      "k1 = Ker()\n",
      "print(k1.k)"
     ],
     "language": "python",
     "metadata": {},
     "outputs": []
    },
    {
     "cell_type": "markdown",
     "metadata": {},
     "source": [
      "Testing numerical approx.\n",
      "-------------------------"
     ]
    },
    {
     "cell_type": "code",
     "collapsed": false,
     "input": [
      "kC = k.cdf(xs)\n",
      "k1C = k1.cdf(xs)\n",
      "print(\"CDF: \", norm(kC - k1C)/len(xs))\n",
      "\n",
      "f = figure()\n",
      "f.set_figheight(12)\n",
      "ax1 = f.add_subplot(2,1,1)\n",
      "ax1.plot(xs, k1C, label='numeric')\n",
      "ax1.plot(xs, kC, linestyle='--', label='explicit')\n",
      "ax1.legend(loc='best')\n",
      "ax1.set_title('CDF')\n",
      "ax2 = f.add_subplot(2,1,2)\n",
      "ax2.plot(xs, kC - k1C)\n",
      "ax2.set_title('Diff. CDF')"
     ],
     "language": "python",
     "metadata": {},
     "outputs": []
    },
    {
     "cell_type": "code",
     "collapsed": false,
     "input": [
      "print(\"PM1: \", norm(k.pm1(xs) - k1.pm1(xs))/len(xs))"
     ],
     "language": "python",
     "metadata": {},
     "outputs": []
    },
    {
     "cell_type": "code",
     "collapsed": false,
     "input": [
      "print(\"PM2: \", norm(k.pm2(xs) - k1.pm2(xs))/len(xs))"
     ],
     "language": "python",
     "metadata": {},
     "outputs": []
    },
    {
     "cell_type": "code",
     "collapsed": false,
     "input": [
      "print(\"even numbers:\")\n",
      "fs__ = fft.rfftfreq(len(xs), xs[1]-xs[0])\n",
      "fs_ = kernels.rfftfreq(len(xs), xs[1]-xs[0])\n",
      "fmax = fs_.max()\n",
      "print('fmax = ', 1/(2*(xs[1]-xs[0])))\n",
      "print(fs__[1014:])\n",
      "print(fs_[1014:])\n",
      "\n",
      "print(\"odd numbers:\")\n",
      "fs__ = fft.rfftfreq(len(xs)+1, xs[1]-xs[0])\n",
      "fs_ = kernels.rfftfreq(len(xs)+1, xs[1]-xs[0])\n",
      "print('fmax = ', 1/(2*(xs[1]-xs[0])))\n",
      "print(fs__[1014:])\n",
      "print(fs_[1014:])"
     ],
     "language": "python",
     "metadata": {},
     "outputs": []
    },
    {
     "cell_type": "code",
     "collapsed": false,
     "input": [
      "N = 2**14\n",
      "dx = 0.1\n",
      "fs = kernels.rfftfreq(N, dx)\n",
      "print(fs.max())"
     ],
     "language": "python",
     "metadata": {},
     "outputs": []
    },
    {
     "cell_type": "code",
     "collapsed": false,
     "input": [
      "kf = k.rfft(N, dx)\n",
      "k1f = k1.rfft(N, dx)\n",
      "print(\"FFT: \", norm(kf - k1f)/len(fs))\n",
      "f = figure()\n",
      "f.set_size_inches(12, 12)\n",
      "ax1 = f.add_subplot(2,2,1)\n",
      "ax1.plot(fs, k1f.real, label='numeric')\n",
      "ax1.plot(fs, kf.real, linestyle='--', label='explicit')\n",
      "ax1.legend(loc='best')\n",
      "ax1.set_title('Real fft')\n",
      "ax2 = f.add_subplot(2,2,2)\n",
      "ax2.plot(fs, k1f.imag, label='numeric')\n",
      "ax2.plot(fs, kf.imag, linestyle='--', label='explicit')\n",
      "ax2.legend(loc='best')\n",
      "ax2.set_title('Imag fft')\n",
      "\n",
      "ax3 = f.add_subplot(2,2,3)\n",
      "ax3.plot(fs, kf.real - k1f.real)\n",
      "ax3.set_title('Diff. Real fft')\n",
      "ax4 = f.add_subplot(2,2,4)\n",
      "ax4.plot(fs, kf.imag - k1f.imag)\n",
      "ax4.set_title('Diff. Imag fft')"
     ],
     "language": "python",
     "metadata": {},
     "outputs": []
    },
    {
     "cell_type": "code",
     "collapsed": false,
     "input": [
      "kfx = k.rfft_xfx(N, dx)\n",
      "k1fx = k1.rfft_xfx(N, dx)\n",
      "print(\"FFT_xfx: \", norm(kfx-k1fx)/len(fs))\n",
      "f = figure()\n",
      "f.set_size_inches(12, 12)\n",
      "\n",
      "ax1 = f.add_subplot(2,2,1)\n",
      "ax1.plot(fs, k1fx.real, label='numeric')\n",
      "ax1.plot(fs, kfx.real, linestyle='--', label='explicit')\n",
      "ax1.legend(loc='best')\n",
      "ax2 = f.add_subplot(2,2,2)\n",
      "ax2.plot(fs, k1fx.imag, label='numeric')\n",
      "ax2.plot(fs, kfx.imag, linestyle='--', label='explicit')\n",
      "ax2.legend(loc='best')\n",
      "ax1.set_title('Real fft_xfx')\n",
      "ax2.set_title('Imag fft_xfx')\n",
      "\n",
      "ax3 = f.add_subplot(2,2,3)\n",
      "ax3.plot(fs, kfx.real - k1fx.real)\n",
      "#ax3.legend(loc='best')\n",
      "ax3.set_title('Diff. Real fft_xfx')\n",
      "ax4 = f.add_subplot(2,2,4)\n",
      "ax4.plot(fs, kfx.imag - k1fx.imag)\n",
      "#ax4.legend(loc='best')\n",
      "ax4.set_title('Diff. Imag fft_xfx')"
     ],
     "language": "python",
     "metadata": {},
     "outputs": []
    },
    {
     "cell_type": "code",
     "collapsed": false,
     "input": [
      "ds = kernels.dctfreq(N, dx)\n",
      "kd = k.dct(N, dx)\n",
      "k1d = k1.dct(N, dx)\n",
      "print(\"DCT: \", norm(kd-k1d)/len(fs))\n",
      "f = figure()\n",
      "f.set_figheight(12)\n",
      "ax1 = f.add_subplot(2,1,1)\n",
      "ax1.plot(ds, k1d, label='numeric')\n",
      "ax1.plot(ds, kd, linestyle='--', label='explicit')\n",
      "ax1.legend(loc='best')\n",
      "ax1.set_title('DCT')\n",
      "ax2 = f.add_subplot(2,1,2)\n",
      "ax2.plot(ds, kd - k1d)\n",
      "ax2.set_title('Diff. DCT')"
     ],
     "language": "python",
     "metadata": {},
     "outputs": []
    },
    {
     "cell_type": "markdown",
     "metadata": {},
     "source": [
      "Debugging FFT computation\n",
      "-------------------------"
     ]
    },
    {
     "cell_type": "code",
     "collapsed": false,
     "input": [
      "ref = k.fft(fs)\n",
      "period = pi/(fs[1]-fs[0])\n",
      "l = len(fs)\n",
      "dz1, step = linspace(-period, period, 2*l-1, endpoint=True, retstep=True)\n",
      "dz1 = roll(dz1, l)\n",
      "step = (2*period) / (2*l-1)\n",
      "dz2, step2 = linspace(-period+step/2, period-step/2, 2*l-1, endpoint=True, retstep=True)\n",
      "print('step = {0}, step2 = {1}, diff = {2}'.format(step, step2, step-step2))\n",
      "dz2 = roll(dz2, l)# + step/2\n",
      "\n",
      "pdf1 = k.pdf(dz1)*step\n",
      "pdf2 = k.pdf(dz2)*step\n",
      "out1 = np.fft.rfft(pdf1)\n",
      "out2 = np.fft.rfft(pdf2)\n",
      "\n",
      "f = figure()\n",
      "f.set_figheight(12)\n",
      "ax1 = f.add_subplot(2,2,1)\n",
      "l1 = ax1.plot(fs, out1.real, label='from 0')\n",
      "l2 = ax1.plot(fs, out2.real, label='shifted')\n",
      "c1 = l1[0].get_color()\n",
      "c2 = l2[0].get_color()\n",
      "ax1.legend(loc='best')\n",
      "ax2 = f.add_subplot(2,2,2)\n",
      "ax2.plot(fs, out1.imag, label='from 0', color=c1)\n",
      "ax2.plot(fs, out2.imag, label='shifted', color=c2)\n",
      "ax2.legend(loc='best')\n",
      "ax1.set_title('Real fft')\n",
      "ax2.set_title('Imag fft')\n",
      "\n",
      "ax3 = f.add_subplot(2,2,3)\n",
      "ax3.plot(fs, out1.real - ref.real, color=c1, label='from 0')\n",
      "ax3.plot(fs, out2.real - ref.real, color=c2, label='shifted')\n",
      "ax3.legend(loc='best')\n",
      "ax3.set_title('Diff. Real fft')\n",
      "ax4 = f.add_subplot(2,2,4)\n",
      "ax4.plot(fs, out1.imag - ref.imag, color=c1, label='from 0')\n",
      "ax4.plot(fs, out2.imag - ref.imag, color=c2, label='shifted')\n",
      "ax4.legend(loc='best')\n",
      "ax4.set_title('Diff. Imag fft')\n"
     ],
     "language": "python",
     "metadata": {},
     "outputs": []
    },
    {
     "cell_type": "markdown",
     "metadata": {},
     "source": [
      "Debugging DCT computation\n",
      "-------------------------"
     ]
    },
    {
     "cell_type": "code",
     "collapsed": false,
     "input": [
      "ref = k.dct(fs)\n",
      "\n",
      "period = pi/(fs[1]-fs[0])\n",
      "l = len(fs)\n",
      "dz1, step1 = linspace(0, period, l, endpoint=True, retstep=True)\n",
      "dz1 += step1/2\n",
      "pdf1 = k.pdf(dz1) * step1\n",
      "out1 = fftpack.dct(pdf1)\n",
      "\n",
      "dz2, step2 = linspace(0, period, l, endpoint=False, retstep=True)\n",
      "dz2 += step2/2\n",
      "pdf2 = k.pdf(dz2) * step2\n",
      "out2 = fftpack.dct(pdf2)\n",
      "\n",
      "plot(fs, out1 - ref, label='with end point')\n",
      "plot(fs, out2 - ref, label='without end point')\n",
      "legend(loc=0)\n"
     ],
     "language": "python",
     "metadata": {},
     "outputs": []
    },
    {
     "cell_type": "code",
     "collapsed": false,
     "input": [
      "dz = 1.\n",
      "l = 1025\n",
      "step = 1. / (l*dz)\n",
      "n2 = (l-1)//2\n",
      "start = -step * (n2-0.5)\n",
      "ls = start + step*arange(l)\n",
      "ls = roll(ls, n2+1)\n",
      "ls[:10]"
     ],
     "language": "python",
     "metadata": {},
     "outputs": []
    },
    {
     "cell_type": "code",
     "collapsed": false,
     "input": [
      "kernels.fftsamples(1025, dx=step)[:10]"
     ],
     "language": "python",
     "metadata": {},
     "outputs": []
    },
    {
     "cell_type": "code",
     "collapsed": false,
     "input": [],
     "language": "python",
     "metadata": {},
     "outputs": []
    }
   ],
   "metadata": {}
  }
 ]
}