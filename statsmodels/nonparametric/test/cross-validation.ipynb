{
 "metadata": {
  "name": "",
  "signature": "sha256:b7a8a899d91706eeedefe5d9c6162fb6c56b74b9e67e77c6585be79d1321fd95"
 },
 "nbformat": 3,
 "nbformat_minor": 0,
 "worksheets": [
  {
   "cells": [
    {
     "cell_type": "code",
     "collapsed": false,
     "input": [
      "from pylab import *\n",
      "from statsmodels.nonparametric import kde, kernels, bandwidths, bw_crossvalidation\n",
      "from scipy import stats, integrate"
     ],
     "language": "python",
     "metadata": {},
     "outputs": []
    },
    {
     "cell_type": "markdown",
     "metadata": {},
     "source": [
      "Defining the target distribution\n",
      "--------------------------------"
     ]
    },
    {
     "cell_type": "code",
     "collapsed": false,
     "input": [
      "dist1 = stats.norm(loc=1.2, scale=0.4)\n",
      "dist2 = stats.norm(loc=-3, scale=2)\n",
      "N = 1e4\n",
      "d = r_[dist1.rvs(N), dist2.rvs(N)]\n",
      "k = kde.KDE(d, method=kde.kde1d_methods.Cyclic)\n",
      "est = k.fit()\n",
      "xs = r_[-12:6:2048j]\n",
      "def pdf(x):\n",
      "    return (dist1.pdf(x) + dist2.pdf(x))/2"
     ],
     "language": "python",
     "metadata": {},
     "outputs": []
    },
    {
     "cell_type": "markdown",
     "metadata": {},
     "source": [
      "Estimation with Scott's rule of thumb:"
     ]
    },
    {
     "cell_type": "code",
     "collapsed": false,
     "input": [
      "plot(*est.grid())\n",
      "plot(xs, pdf(xs), 'r--')"
     ],
     "language": "python",
     "metadata": {},
     "outputs": []
    },
    {
     "cell_type": "markdown",
     "metadata": {},
     "source": [
      "Estimation with cross-validation\n",
      "\n",
      "**Note:** By default, the cross-validation is not full but only take 3000 samples"
     ]
    },
    {
     "cell_type": "code",
     "collapsed": false,
     "input": [
      "%%time\n",
      "k1 = k.copy()\n",
      "k1.bandwidth = bandwidths.leastsquare_cv_bandwidth()\n",
      "est1 = k1.fit()"
     ],
     "language": "python",
     "metadata": {},
     "outputs": []
    },
    {
     "cell_type": "code",
     "collapsed": false,
     "input": [
      "est1.bandwidth"
     ],
     "language": "python",
     "metadata": {},
     "outputs": []
    },
    {
     "cell_type": "code",
     "collapsed": false,
     "input": [
      "est.bandwidth"
     ],
     "language": "python",
     "metadata": {},
     "outputs": []
    },
    {
     "cell_type": "code",
     "collapsed": false,
     "input": [
      "plot(*est1.grid())\n",
      "plot(xs, pdf(xs), 'r--')"
     ],
     "language": "python",
     "metadata": {},
     "outputs": []
    },
    {
     "cell_type": "markdown",
     "metadata": {},
     "source": [
      "The result is still much much better"
     ]
    },
    {
     "cell_type": "code",
     "collapsed": false,
     "input": [],
     "language": "python",
     "metadata": {},
     "outputs": []
    }
   ],
   "metadata": {}
  }
 ]
}