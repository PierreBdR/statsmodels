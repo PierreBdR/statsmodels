{
 "metadata": {
  "name": "",
  "signature": "sha256:217e38a9c7aa6dc47c2c71457187af319563cd234358134ad10f607e5510b4c8"
 },
 "nbformat": 3,
 "nbformat_minor": 0,
 "worksheets": [
  {
   "cells": [
    {
     "cell_type": "code",
     "collapsed": false,
     "input": [
      "%pylab inline\n",
      "from __future__ import print_function, division, absolute_import\n",
      "from statsmodels.nonparametric import kde, kernels, bandwidths, bw_crossvalidation\n",
      "from scipy import stats, integrate\n",
      "rcParams['figure.figsize'] = (10,6)"
     ],
     "language": "python",
     "metadata": {},
     "outputs": []
    },
    {
     "cell_type": "heading",
     "level": 2,
     "metadata": {},
     "source": [
      "Defining the target distribution"
     ]
    },
    {
     "cell_type": "code",
     "collapsed": false,
     "input": [
      "dist1 = stats.norm(loc=1.2, scale=0.4)\n",
      "dist2 = stats.norm(loc=-3, scale=2)\n",
      "N = 1e4\n",
      "d = r_[dist1.rvs(N), dist2.rvs(N)]\n",
      "k = kde.KDE(d, method=kde.kde1d_methods.Cyclic)\n",
      "est = k.fit()\n",
      "xs = r_[-12:6:2048j]\n",
      "def pdf(x):\n",
      "    return (dist1.pdf(x) + dist2.pdf(x))/2"
     ],
     "language": "python",
     "metadata": {},
     "outputs": []
    },
    {
     "cell_type": "heading",
     "level": 3,
     "metadata": {},
     "source": [
      "Estimation with Scott's rule of thumb:"
     ]
    },
    {
     "cell_type": "code",
     "collapsed": false,
     "input": [
      "plot(*est.grid())\n",
      "plot(xs, pdf(xs), 'r--')"
     ],
     "language": "python",
     "metadata": {},
     "outputs": []
    },
    {
     "cell_type": "heading",
     "level": 2,
     "metadata": {},
     "source": [
      "Estimation with cross-validation"
     ]
    },
    {
     "cell_type": "markdown",
     "metadata": {},
     "source": [
      "**Note:** We will use the folding method with 10 folds and grid-based approximation"
     ]
    },
    {
     "cell_type": "code",
     "collapsed": false,
     "input": [
      "%%time\n",
      "k1 = k.copy()\n",
      "k1.bandwidth = bandwidths.leastsquare_cv_bandwidth(imse_args=dict(folding=10, use_grid=True))\n",
      "est1 = k1.fit()"
     ],
     "language": "python",
     "metadata": {},
     "outputs": []
    },
    {
     "cell_type": "code",
     "collapsed": false,
     "input": [
      "est1.bandwidth"
     ],
     "language": "python",
     "metadata": {},
     "outputs": []
    },
    {
     "cell_type": "code",
     "collapsed": false,
     "input": [
      "est.bandwidth"
     ],
     "language": "python",
     "metadata": {},
     "outputs": []
    },
    {
     "cell_type": "code",
     "collapsed": false,
     "input": [
      "plot(*est1.grid())\n",
      "plot(xs, pdf(xs), 'r--')"
     ],
     "language": "python",
     "metadata": {},
     "outputs": []
    },
    {
     "cell_type": "markdown",
     "metadata": {},
     "source": [
      "The result is still much much better"
     ]
    },
    {
     "cell_type": "heading",
     "level": 3,
     "metadata": {},
     "source": [
      "Full Leave-One-Out method for the cross-validation"
     ]
    },
    {
     "cell_type": "code",
     "collapsed": false,
     "input": [
      "%%time\n",
      "k2 = k.copy()\n",
      "k2.bandwidth = bandwidths.leastsquare_cv_bandwidth()\n",
      "est2 = k2.fit()"
     ],
     "language": "python",
     "metadata": {},
     "outputs": []
    },
    {
     "cell_type": "code",
     "collapsed": false,
     "input": [
      "est2.bandwidth"
     ],
     "language": "python",
     "metadata": {},
     "outputs": []
    },
    {
     "cell_type": "heading",
     "level": 3,
     "metadata": {},
     "source": [
      "Using Randomized leave-one-out method for the cross-validation"
     ]
    },
    {
     "cell_type": "code",
     "collapsed": false,
     "input": [
      "%%time\n",
      "k3 = k.copy()\n",
      "k3.bandwidth = bandwidths.leastsquare_cv_bandwidth(imse_args=dict(sampling=1000))\n",
      "est3 = k3.fit()"
     ],
     "language": "python",
     "metadata": {},
     "outputs": []
    },
    {
     "cell_type": "code",
     "collapsed": false,
     "input": [
      "est3.bandwidth"
     ],
     "language": "python",
     "metadata": {},
     "outputs": []
    },
    {
     "cell_type": "heading",
     "level": 2,
     "metadata": {},
     "source": [
      "Testing IMSE speed"
     ]
    },
    {
     "cell_type": "code",
     "collapsed": false,
     "input": [
      "imse_sample = bw_crossvalidation.ContinuousIMSE(k, sampling=3000)"
     ],
     "language": "python",
     "metadata": {},
     "outputs": []
    },
    {
     "cell_type": "code",
     "collapsed": false,
     "input": [
      "%time imse_sample(0.3)"
     ],
     "language": "python",
     "metadata": {},
     "outputs": []
    },
    {
     "cell_type": "code",
     "collapsed": false,
     "input": [
      "imse_loo = bw_crossvalidation.ContinuousIMSE(k)"
     ],
     "language": "python",
     "metadata": {},
     "outputs": []
    },
    {
     "cell_type": "code",
     "collapsed": false,
     "input": [
      "%time imse_loo(0.3)"
     ],
     "language": "python",
     "metadata": {},
     "outputs": []
    },
    {
     "cell_type": "code",
     "collapsed": false,
     "input": [
      "imse_fold = bw_crossvalidation.ContinuousIMSE(k, folding=10, use_grid=True)"
     ],
     "language": "python",
     "metadata": {},
     "outputs": []
    },
    {
     "cell_type": "code",
     "collapsed": false,
     "input": [
      "%time imse_fold(0.3)"
     ],
     "language": "python",
     "metadata": {},
     "outputs": []
    },
    {
     "cell_type": "code",
     "collapsed": false,
     "input": [
      "imse_sample2 = bw_crossvalidation.ContinuousIMSE(k, sampling=3000, use_grid=True)\n",
      "%time imse_sample2(0.3)"
     ],
     "language": "python",
     "metadata": {},
     "outputs": []
    },
    {
     "cell_type": "code",
     "collapsed": false,
     "input": [],
     "language": "python",
     "metadata": {},
     "outputs": []
    }
   ],
   "metadata": {}
  }
 ]
}