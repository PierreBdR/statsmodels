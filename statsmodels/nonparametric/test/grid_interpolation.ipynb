{
 "metadata": {
  "name": "",
  "signature": "sha256:99f7fe94e833b1c2c10946c7be2014125f81c788f97922e9ecf5acc2f65911f3"
 },
 "nbformat": 3,
 "nbformat_minor": 0,
 "worksheets": [
  {
   "cells": [
    {
     "cell_type": "code",
     "collapsed": false,
     "input": [
      "%pylab inline\n",
      "from __future__ import print_function, division\n",
      "from statsmodels.nonparametric.kde_utils import Grid\n",
      "from statsmodels.nonparametric.grid_interpolation import GridInterpolator"
     ],
     "language": "python",
     "metadata": {},
     "outputs": []
    },
    {
     "cell_type": "heading",
     "level": 1,
     "metadata": {},
     "source": [
      "Testing 1D interpolation"
     ]
    },
    {
     "cell_type": "code",
     "collapsed": false,
     "input": [
      "ms = ogrid[2:2+2*pi:2**20*1j]\n",
      "gr = Grid(ms, dtype=float, bin_types='U')\n",
      "print(gr)\n",
      "vals = 2+cos(ms)"
     ],
     "language": "python",
     "metadata": {},
     "outputs": []
    },
    {
     "cell_type": "code",
     "collapsed": false,
     "input": [
      "interp = GridInterpolator(gr, vals)"
     ],
     "language": "python",
     "metadata": {},
     "outputs": []
    },
    {
     "cell_type": "code",
     "collapsed": false,
     "input": [
      "interp([3,4,5])"
     ],
     "language": "python",
     "metadata": {},
     "outputs": []
    },
    {
     "cell_type": "code",
     "collapsed": false,
     "input": [
      "xs = r_[1.8:2.1+2*pi:2**20*1j]\n",
      "ys = interp(xs)\n",
      "xs.min(), xs.max(), ys.min(), ys.max()"
     ],
     "language": "python",
     "metadata": {},
     "outputs": []
    },
    {
     "cell_type": "code",
     "collapsed": false,
     "input": [
      "plot(xs[::512], ys[::512], label='interpolated')\n",
      "#plot(gr.sparse(), vals, 'o', label='values')\n",
      "plot(xs[::512], np.interp(xs[::512], gr.sparse(), vals), label='numpy', color='red', linewidth=2, linestyle='--')\n",
      "legend(loc='best')"
     ],
     "language": "python",
     "metadata": {},
     "outputs": []
    },
    {
     "cell_type": "code",
     "collapsed": false,
     "input": [
      "%timeit interp(xs)"
     ],
     "language": "python",
     "metadata": {},
     "outputs": []
    },
    {
     "cell_type": "code",
     "collapsed": false,
     "input": [
      "%timeit np.interp(xs, gr.sparse(), vals)"
     ],
     "language": "python",
     "metadata": {},
     "outputs": []
    },
    {
     "cell_type": "heading",
     "level": 3,
     "metadata": {},
     "source": [
      "Cyclic interpolation"
     ]
    },
    {
     "cell_type": "code",
     "collapsed": false,
     "input": [
      "gr_cyc = Grid(ms, dtype=float, bin_types='C')\n",
      "print(gr_cyc)"
     ],
     "language": "python",
     "metadata": {},
     "outputs": []
    },
    {
     "cell_type": "code",
     "collapsed": false,
     "input": [
      "xs = r_[2-pi:2+6*pi:2**20*1j]\n",
      "interp_cyc = GridInterpolator(gr_cyc, vals)"
     ],
     "language": "python",
     "metadata": {},
     "outputs": []
    },
    {
     "cell_type": "code",
     "collapsed": false,
     "input": [
      "ys_cyc = interp_cyc(xs)"
     ],
     "language": "python",
     "metadata": {},
     "outputs": []
    },
    {
     "cell_type": "code",
     "collapsed": false,
     "input": [
      "plot(xs[::512], ys_cyc[::512], label='interpolated')\n",
      "axvline(gr_cyc.bounds[0,0], color='r', linestyle='--')\n",
      "axvline(gr_cyc.bounds[0,1], color='r', linestyle='--')\n",
      "legend(loc='best')"
     ],
     "language": "python",
     "metadata": {},
     "outputs": []
    },
    {
     "cell_type": "code",
     "collapsed": false,
     "input": [
      "%timeit interp_cyc(xs)"
     ],
     "language": "python",
     "metadata": {},
     "outputs": []
    },
    {
     "cell_type": "heading",
     "level": 3,
     "metadata": {},
     "source": [
      "Reflective bounds"
     ]
    },
    {
     "cell_type": "code",
     "collapsed": false,
     "input": [
      "gr_ref = Grid(ms, dtype=float, bin_types='R')\n",
      "print(gr_ref)"
     ],
     "language": "python",
     "metadata": {},
     "outputs": []
    },
    {
     "cell_type": "code",
     "collapsed": false,
     "input": [
      "interp_ref = GridInterpolator(gr_ref, vals)"
     ],
     "language": "python",
     "metadata": {},
     "outputs": []
    },
    {
     "cell_type": "code",
     "collapsed": false,
     "input": [
      "ys_ref = interp_ref(xs)"
     ],
     "language": "python",
     "metadata": {},
     "outputs": []
    },
    {
     "cell_type": "code",
     "collapsed": false,
     "input": [
      "plot(xs[::512], ys_ref[::512], label='interpolated')\n",
      "axvline(gr_ref.bounds[0,0], color='r', linestyle='--')\n",
      "axvline(gr_ref.bounds[0,1], color='r', linestyle='--')\n",
      "legend(loc='best')"
     ],
     "language": "python",
     "metadata": {},
     "outputs": []
    },
    {
     "cell_type": "code",
     "collapsed": false,
     "input": [
      "%timeit interp_ref(xs)"
     ],
     "language": "python",
     "metadata": {},
     "outputs": []
    },
    {
     "cell_type": "heading",
     "level": 1,
     "metadata": {},
     "source": [
      "Testing 2D interpolation"
     ]
    },
    {
     "cell_type": "code",
     "collapsed": false,
     "input": [
      "%pylab inline\n",
      "from __future__ import print_function, division\n",
      "from statsmodels.nonparametric.kde_utils import Grid\n",
      "from statsmodels.nonparametric import grid_interpolation"
     ],
     "language": "python",
     "metadata": {},
     "outputs": []
    },
    {
     "cell_type": "code",
     "collapsed": false,
     "input": [
      "ms = ogrid[:pi:12j, pi:2*pi:12j]\n",
      "gr = Grid.fromSparse(ms)\n",
      "gr"
     ],
     "language": "python",
     "metadata": {},
     "outputs": []
    },
    {
     "cell_type": "code",
     "collapsed": false,
     "input": [
      "vals = sum(2*gr.full() + 0.5, axis=-1)"
     ],
     "language": "python",
     "metadata": {},
     "outputs": []
    },
    {
     "cell_type": "code",
     "collapsed": false,
     "input": [
      "interp2d = GridInterpolator(gr, vals)"
     ],
     "language": "python",
     "metadata": {},
     "outputs": []
    },
    {
     "cell_type": "code",
     "collapsed": false,
     "input": [
      "xs = Grid.fromSparse(ogrid[.5:3:50j,3.5:6:50j]).full()\n",
      "in_xs = xs.reshape(prod(xs.shape[:-1]), xs.shape[-1])\n",
      "ys = np.empty(xs.shape[:-1], dtype=float)\n",
      "in_ys = ys.view()\n",
      "in_ys.shape = in_xs.shape[:-1]\n",
      "interp2d(in_xs, out=in_ys)\n",
      "expected = sum(2*xs + 0.5, axis=-1)\n",
      "ys.min(), ys.max()"
     ],
     "language": "python",
     "metadata": {},
     "outputs": []
    },
    {
     "cell_type": "code",
     "collapsed": false,
     "input": [
      "sum((ys - expected)**2)"
     ],
     "language": "python",
     "metadata": {},
     "outputs": []
    },
    {
     "cell_type": "code",
     "collapsed": false,
     "input": [
      "plot(xs[20,:,1], ys[20], label='computed')\n",
      "plot(xs[20,:,1], expected[20], label='expected', linestyle='--')\n",
      "legend(loc='best')"
     ],
     "language": "python",
     "metadata": {},
     "outputs": []
    },
    {
     "cell_type": "heading",
     "level": 3,
     "metadata": {},
     "source": [
      "Cyclic Boundaries"
     ]
    },
    {
     "cell_type": "code",
     "collapsed": false,
     "input": [],
     "language": "python",
     "metadata": {},
     "outputs": []
    }
   ],
   "metadata": {}
  }
 ]
}