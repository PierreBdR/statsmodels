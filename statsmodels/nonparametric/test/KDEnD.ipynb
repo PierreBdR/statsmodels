{
 "metadata": {
  "name": "",
  "signature": "sha256:4abca4242370bbc25f6e2ec0a1d72973f68679c805b6163a46c8a1255bd49e0a"
 },
 "nbformat": 3,
 "nbformat_minor": 0,
 "worksheets": [
  {
   "cells": [
    {
     "cell_type": "code",
     "collapsed": false,
     "input": [
      "%pylab inline\n",
      "from statsmodels.nonparametric import kde, kdend_methods, kernels, bw_crossvalidation\n",
      "from statsmodels.nonparametric.kde_utils import Grid\n",
      "from scipy import integrate, stats"
     ],
     "language": "python",
     "metadata": {},
     "outputs": []
    },
    {
     "cell_type": "markdown",
     "metadata": {},
     "source": [
      "## Definition of a 2D distribution"
     ]
    },
    {
     "cell_type": "code",
     "collapsed": false,
     "input": [
      "N = 1e3\n",
      "d1x = stats.norm(loc=1, scale=1)\n",
      "d1y = stats.norm(loc=-2.5, scale=0.2)\n",
      "d2x = stats.norm(loc=-2, scale=0.5)\n",
      "d2y = stats.norm(loc=1, scale=1.1)\n",
      "d1 = c_[d1x.rvs(N), d1y.rvs(N)]\n",
      "d2 = c_[d2x.rvs(N), d2y.rvs(N)]\n",
      "d = concatenate((d1, d2), axis=0)\n",
      "k = kde.KDE(d, method=kde.kdend_methods.Cyclic)\n",
      "print(d.min(axis=0), d.max(axis=0))\n",
      "def real_pdf(xs, ys):\n",
      "    return ((d1x.pdf(xs) * d1y.pdf(ys)) + (d2x.pdf(xs) * d2y.pdf(ys)))/2"
     ],
     "language": "python",
     "metadata": {},
     "outputs": []
    },
    {
     "cell_type": "markdown",
     "metadata": {},
     "source": [
      "### Finding the bounds for drawing"
     ]
    },
    {
     "cell_type": "code",
     "collapsed": false,
     "input": [
      "xmin = floor(d[:,0].min())-1\n",
      "xmax = ceil(d[:,0].max())+1\n",
      "ymin = floor(d[:,1].min())-1\n",
      "ymax = ceil(d[:,1].max())+1\n",
      "print('Extent: x = {0:g} -- {1:g}, y = {2:g} -- {3:g}'.format(xmin, xmax, ymin, ymax))\n",
      "est = k.fit()\n",
      "print('bw = {0}, det_inv_bw = {1}'.format(est.bandwidth, est.det_inv_bandwidth))"
     ],
     "language": "python",
     "metadata": {},
     "outputs": []
    },
    {
     "cell_type": "markdown",
     "metadata": {},
     "source": [
      "### Estimation using diagonal Scott's rule of thumb"
     ]
    },
    {
     "cell_type": "code",
     "collapsed": false,
     "input": [
      "GN = 51\n",
      "xs, ys = mgrid[xmin:xmax:GN*1j, ymin:ymax:GN*1j]\n",
      "gr = array((xs, ys))\n",
      "pdf = est(gr)"
     ],
     "language": "python",
     "metadata": {},
     "outputs": []
    },
    {
     "cell_type": "code",
     "collapsed": false,
     "input": [
      "%timeit est(gr)"
     ],
     "language": "python",
     "metadata": {},
     "outputs": []
    },
    {
     "cell_type": "code",
     "collapsed": false,
     "input": [
      "mesh, pdf2 = est.grid([2**9, 2**10])\n",
      "print(pdf2.shape)\n",
      "mesh[0].shape, mesh[1].shape"
     ],
     "language": "python",
     "metadata": {},
     "outputs": []
    },
    {
     "cell_type": "code",
     "collapsed": false,
     "input": [
      "%timeit est.grid(2**10)"
     ],
     "language": "python",
     "metadata": {},
     "outputs": []
    },
    {
     "cell_type": "code",
     "collapsed": false,
     "input": [
      "dx = xs[1,0] - xs[0,0]\n",
      "dy = ys[0,1] - ys[0,0]\n",
      "da = dx*dy\n",
      "print('dx: {0:.4g}, dy: {1:.4g}, da: {2:.4g}'.format(dx, dy, da))\n",
      "print('sum: {:.4g}'.format(sum(pdf)*da))"
     ],
     "language": "python",
     "metadata": {},
     "outputs": []
    },
    {
     "cell_type": "markdown",
     "metadata": {},
     "source": [
      "### The Real Distribution"
     ]
    },
    {
     "cell_type": "code",
     "collapsed": false,
     "input": [
      "rxs, rys = mgrid[xmin:xmax:210j, ymin:ymax:201j]\n",
      "f = figure()\n",
      "f.set_size_inches(12, 8)\n",
      "pcolormesh(rxs, rys, real_pdf(rxs, rys), cmap=cm.jet, shading='gouraud')\n",
      "axhline(0, color='red', linewidth=2, linestyle='--')\n",
      "axvline(0, color='red', linewidth=2, linestyle='--')\n",
      "axhline(-2.5, color='green', linewidth=2, linestyle=':')\n",
      "axvline(1, color='green', linewidth=2, linestyle=':')\n",
      "axhline(1, color='green', linewidth=2, linestyle=':')\n",
      "axvline(-2, color='green', linewidth=2, linestyle=':')\n",
      "axis('equal')\n",
      "xlim(xmin, xmax)\n",
      "ylim(ymin, ymax)\n",
      "colorbar()"
     ],
     "language": "python",
     "metadata": {},
     "outputs": []
    },
    {
     "cell_type": "markdown",
     "metadata": {},
     "source": [
      "### Drawing the result"
     ]
    },
    {
     "cell_type": "code",
     "collapsed": false,
     "input": [
      "f = figure()\n",
      "f.set_size_inches(24, 8)\n",
      "ax1 = f.add_subplot(1,2,1)\n",
      "pcolormesh(xs, ys, pdf, cmap=cm.jet, shading='gouraud')\n",
      "axhline(0, color='red', linewidth=2, linestyle='--')\n",
      "axvline(0, color='red', linewidth=2, linestyle='--')\n",
      "axhline(-2.5, color='green', linewidth=2, linestyle=':')\n",
      "axvline(1, color='green', linewidth=2, linestyle=':')\n",
      "axhline(1, color='green', linewidth=2, linestyle=':')\n",
      "axvline(-2, color='green', linewidth=2, linestyle=':')\n",
      "axis('equal')\n",
      "xlim(xmin, xmax)\n",
      "ylim(ymin, ymax)\n",
      "colorbar()\n",
      "title('Estimation of bi-modal distribution (direct)')\n",
      "ax1 = f.add_subplot(1,2,2)\n",
      "m2 = meshgrid(*mesh, indexing='ij')\n",
      "pcolormesh(m2[0], m2[1], pdf2, cmap=cm.jet, shading='gouraud')\n",
      "axhline(0, color='red', linewidth=2, linestyle='--')\n",
      "axvline(0, color='red', linewidth=2, linestyle='--')\n",
      "axhline(-2.5, color='green', linewidth=2, linestyle=':')\n",
      "axvline(1, color='green', linewidth=2, linestyle=':')\n",
      "axhline(1, color='green', linewidth=2, linestyle=':')\n",
      "axvline(-2, color='green', linewidth=2, linestyle=':')\n",
      "axis('equal')\n",
      "xlim(xmin, xmax)\n",
      "ylim(ymin, ymax)\n",
      "colorbar()\n",
      "title('Estimation of bi-modal distribution (FFT)')"
     ],
     "language": "python",
     "metadata": {},
     "outputs": []
    },
    {
     "cell_type": "markdown",
     "metadata": {},
     "source": [
      "**Note:** The red lines show the center of the reference system, the green lines the center of the two modes.\n",
      "Compared to the real, expected, distribution, the result is not great! The peaks are too broad, and of similar width and height."
     ]
    },
    {
     "cell_type": "markdown",
     "metadata": {},
     "source": [
      "## Using cross-validation to estimate bandwidth"
     ]
    },
    {
     "cell_type": "code",
     "collapsed": false,
     "input": [
      "k1 = k.copy()\n",
      "bw = kde.bandwidths.leastsquare_cv_bandwidth(imse_args = dict(grid_size = 256, folding=20, use_grid=True))\n",
      "k1.bandwidth = bw"
     ],
     "language": "python",
     "metadata": {},
     "outputs": []
    },
    {
     "cell_type": "code",
     "collapsed": false,
     "input": [
      "imse = bw_crossvalidation.ContinuousIMSE(k1, grid_size = 256, folding=20, use_grid=True)"
     ],
     "language": "python",
     "metadata": {},
     "outputs": []
    },
    {
     "cell_type": "code",
     "collapsed": false,
     "input": [
      "print('imse(0.2) :', imse([0.2, 0.2]))\n",
      "print('imse(0.4) :', imse([0.4, 0.4]))\n",
      "print('imse(0.6) :', imse([0.6, 0.6]))"
     ],
     "language": "python",
     "metadata": {},
     "outputs": []
    },
    {
     "cell_type": "code",
     "collapsed": false,
     "input": [
      "%%time\n",
      "est1 = k1.fit()"
     ],
     "language": "python",
     "metadata": {},
     "outputs": []
    },
    {
     "cell_type": "code",
     "collapsed": false,
     "input": [
      "print('est: ', est.bandwidth)\n",
      "print('est1: ', est1.bandwidth)\n",
      "optim = est1.bandwidth"
     ],
     "language": "python",
     "metadata": {},
     "outputs": []
    },
    {
     "cell_type": "code",
     "collapsed": false,
     "input": [
      "xxs, pdf3 = est1.grid(512)\n",
      "xxs = Grid(xxs).full('C')"
     ],
     "language": "python",
     "metadata": {},
     "outputs": []
    },
    {
     "cell_type": "code",
     "collapsed": false,
     "input": [
      "f = figure()\n",
      "f.set_size_inches(24, 8)\n",
      "ax1 = f.add_subplot(1,2,1)\n",
      "pcolormesh(xxs[0], xxs[1], pdf3, cmap=cm.jet, shading='gouraud')\n",
      "axhline(0, color='red', linewidth=2, linestyle='--')\n",
      "axvline(0, color='red', linewidth=2, linestyle='--')\n",
      "axhline(-2.5, color='green', linewidth=2, linestyle=':')\n",
      "axvline(1, color='green', linewidth=2, linestyle=':')\n",
      "axhline(1, color='green', linewidth=2, linestyle=':')\n",
      "axvline(-2, color='green', linewidth=2, linestyle=':')\n",
      "axis('equal')\n",
      "xlim(xxs[0].min(), xxs[0].max())\n",
      "ylim(xxs[1].min(), xxs[1].max())\n",
      "title('Estimated distribution')\n",
      "colorbar()\n",
      "ax2 = f.add_subplot(1,2,2)\n",
      "pcolormesh(xxs[0], xxs[1], real_pdf(xxs[0], xxs[1]), cmap=cm.jet, shading='gouraud')\n",
      "axhline(0, color='red', linewidth=2, linestyle='--')\n",
      "axvline(0, color='red', linewidth=2, linestyle='--')\n",
      "axhline(-2.5, color='green', linewidth=2, linestyle=':')\n",
      "axvline(1, color='green', linewidth=2, linestyle=':')\n",
      "axhline(1, color='green', linewidth=2, linestyle=':')\n",
      "axvline(-2, color='green', linewidth=2, linestyle=':')\n",
      "axis('equal')\n",
      "xlim(xxs[0].min(), xxs[0].max())\n",
      "ylim(xxs[1].min(), xxs[1].max())\n",
      "title('Real distribution')\n",
      "colorbar()"
     ],
     "language": "python",
     "metadata": {},
     "outputs": []
    },
    {
     "cell_type": "markdown",
     "metadata": {},
     "source": [
      "**Notes:** The estimation is much better: the peak's relative heights are correct and so are their widths!\n",
      "\n",
      "And a few values for the IMSE:"
     ]
    },
    {
     "cell_type": "code",
     "collapsed": false,
     "input": [
      "imse = bw_crossvalidation.ContinuousIMSE(k, grid_size = 201, folding=10)\n",
      "print('Optimum: ', imse(est1.bandwidth))\n",
      "print('Double Scott: ', imse(2*est.bandwidth))\n",
      "print('Scott: ', imse(est.bandwidth))\n",
      "print('Half Scott: ', imse(est.bandwidth/2))\n",
      "print('0.2, 0.1: ', imse([0.2, 0.1]))\n",
      "print('0.02, 0.01: ', imse([0.02, 0.01]))"
     ],
     "language": "python",
     "metadata": {},
     "outputs": []
    },
    {
     "cell_type": "code",
     "collapsed": false,
     "input": [
      "print('folding\\n-------')\n",
      "imse = bw_crossvalidation.ContinuousIMSE(k, grid_size = 512, folding=10, use_grid = True)\n",
      "%time imse(est1.bandwidth)\n",
      "print('\\nLOO\\n---')\n",
      "imse = bw_crossvalidation.ContinuousIMSE(k, grid_size = 512)\n",
      "%time imse(est1.bandwidth)\n",
      "print('\\nLOO Sampling\\n------------')\n",
      "imse = bw_crossvalidation.ContinuousIMSE(k, grid_size = 512, sampling=1000)\n",
      "%time imse(est1.bandwidth)\n",
      "None # Suppress output"
     ],
     "language": "python",
     "metadata": {},
     "outputs": []
    },
    {
     "cell_type": "markdown",
     "metadata": {},
     "source": [
      "### To check : the 2D histogram"
     ]
    },
    {
     "cell_type": "code",
     "collapsed": false,
     "input": [
      "H, xedges, yedges = histogram2d(d[:,0], d[:,1], normed=True, bins=[101,103], range=[[xmin, xmax], [ymin, ymax]])"
     ],
     "language": "python",
     "metadata": {},
     "outputs": []
    },
    {
     "cell_type": "code",
     "collapsed": false,
     "input": [
      "f = figure()\n",
      "f.set_size_inches(8,7)\n",
      "xh = (xedges[1:] + xedges[:-1])/2\n",
      "yh = (yedges[1:] + yedges[:-1])/2\n",
      "pcolormesh(xh, yh, H.T, cmap=cm.jet, shading='flat')\n",
      "axhline(0, color='red', linewidth=2, linestyle='--')\n",
      "axvline(0, color='red', linewidth=2, linestyle='--')\n",
      "axhline(-2.5, color='green', linewidth=2, linestyle=':')\n",
      "axvline(1, color='green', linewidth=2, linestyle=':')\n",
      "axhline(1, color='green', linewidth=2, linestyle=':')\n",
      "axvline(-2, color='green', linewidth=2, linestyle=':')\n",
      "axis('equal')\n",
      "xlim(xmin, xmax)\n",
      "ylim(ymin, ymax)"
     ],
     "language": "python",
     "metadata": {},
     "outputs": []
    },
    {
     "cell_type": "code",
     "collapsed": false,
     "input": [],
     "language": "python",
     "metadata": {},
     "outputs": []
    }
   ],
   "metadata": {}
  }
 ]
}