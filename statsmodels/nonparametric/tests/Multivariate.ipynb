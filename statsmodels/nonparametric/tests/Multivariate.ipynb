{
 "metadata": {
  "name": "",
  "signature": "sha256:e9400b2a716a299ef6d031b07f09ee3b40d99b65adf334bc6c3e3550d469aace"
 },
 "nbformat": 3,
 "nbformat_minor": 0,
 "worksheets": [
  {
   "cells": [
    {
     "cell_type": "code",
     "collapsed": false,
     "input": [
      "%pylab inline\n",
      "from __future__ import print_function, division\n",
      "from statsmodels.nonparametric import kde\n",
      "from scipy import stats"
     ],
     "language": "python",
     "metadata": {},
     "outputs": []
    },
    {
     "cell_type": "code",
     "collapsed": false,
     "input": [
      "d1 = stats.lognorm(1)\n",
      "d2 = stats.norm(loc=2, scale=0.3)\n",
      "d3 = stats.binom(10, .4)"
     ],
     "language": "python",
     "metadata": {},
     "outputs": []
    },
    {
     "cell_type": "code",
     "collapsed": false,
     "input": [
      "N = 1e3\n",
      "data = c_[d1.rvs(N), d2.rvs(N), d3.rvs(N)]\n",
      "data[:10]"
     ],
     "language": "python",
     "metadata": {},
     "outputs": []
    },
    {
     "cell_type": "code",
     "collapsed": false,
     "input": [
      "data.max(axis=0)"
     ],
     "language": "python",
     "metadata": {},
     "outputs": []
    },
    {
     "cell_type": "code",
     "collapsed": false,
     "input": [
      "k = kde.KDE(data, axis_type='cco')\n",
      "est = k.fit()\n",
      "est.bandwidth"
     ],
     "language": "python",
     "metadata": {},
     "outputs": []
    },
    {
     "cell_type": "code",
     "collapsed": false,
     "input": [
      "est.pdf([[1,2,3],[4,3,2]])"
     ],
     "language": "python",
     "metadata": {},
     "outputs": []
    },
    {
     "cell_type": "code",
     "collapsed": false,
     "input": [],
     "language": "python",
     "metadata": {},
     "outputs": []
    }
   ],
   "metadata": {}
  }
 ]
}