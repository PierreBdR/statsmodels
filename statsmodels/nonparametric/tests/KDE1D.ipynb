{
 "metadata": {
  "name": "",
  "signature": "sha256:374c573f7e2c93cd34b1b90ead7e889c383f5e638c7ca06685821a73f594c441"
 },
 "nbformat": 3,
 "nbformat_minor": 0,
 "worksheets": [
  {
   "cells": [
    {
     "cell_type": "code",
     "collapsed": false,
     "input": [
      "%pylab inline\n",
      "from __future__ import division, print_function\n",
      "from statsmodels.nonparametric import kde, fast_linbin\n",
      "from scipy import stats\n",
      "try:\n",
      "    import plotly.plotly as py\n",
      "    HAS_PLOTLY = False\n",
      "except ImportError:\n",
      "    HAS_PLOTLY = False"
     ],
     "language": "python",
     "metadata": {},
     "outputs": []
    },
    {
     "cell_type": "code",
     "collapsed": false,
     "input": [
      "d1 = stats.norm(1)\n",
      "r = d1.rvs(1e2)\n",
      "k = kde.KDE(r, method=kde.kde1d_methods.KDE1DMethod)#, method=kde.kde1d_methods.TransformKDE(kde.kde1d_methods.LogTransform), lower=0)\n",
      "est = k.fit()"
     ],
     "language": "python",
     "metadata": {},
     "outputs": []
    },
    {
     "cell_type": "code",
     "collapsed": false,
     "input": [
      "mesh, bins = fast_linbin.fast_linbin(r, [-3, 5], 110)\n",
      "bins /= sum(bins) * mesh.start_volume\n",
      "f = figure()\n",
      "bar(mesh.full(), bins, mesh.start_interval[0], align='center', edgecolor='none')\n",
      "xlim(xmin=-3, xmax=5)\n",
      "if HAS_PLOTLY:\n",
      "    py.plot_mpl(f, filename='init_histogram')"
     ],
     "language": "python",
     "metadata": {},
     "outputs": []
    },
    {
     "cell_type": "code",
     "collapsed": false,
     "input": [
      "mesh.integrate(bins)"
     ],
     "language": "python",
     "metadata": {},
     "outputs": []
    },
    {
     "cell_type": "code",
     "collapsed": false,
     "input": [
      "pts = r_[-3:5:1024j]\n",
      "pts = c_[pts[:512], pts[512:]]\n",
      "pts.shape"
     ],
     "language": "python",
     "metadata": {},
     "outputs": []
    },
    {
     "cell_type": "heading",
     "level": 3,
     "metadata": {},
     "source": [
      "Testing per-dim functions"
     ]
    },
    {
     "cell_type": "code",
     "collapsed": false,
     "input": [
      "pdf1 = np.empty(pts.shape, dtype=pts.dtype)\n",
      "est.pdf(pts, dims=(1,0), out=pdf1)\n",
      "pdf1.shape"
     ],
     "language": "python",
     "metadata": {},
     "outputs": []
    },
    {
     "cell_type": "code",
     "collapsed": true,
     "input": [
      "plot(pts[:,1], pdf1[:,0])\n",
      "plot(pts[:,0], pdf1[:,1])"
     ],
     "language": "python",
     "metadata": {},
     "outputs": []
    },
    {
     "cell_type": "code",
     "collapsed": false,
     "input": [
      "xs, pdf = est.grid(2**10)"
     ],
     "language": "python",
     "metadata": {},
     "outputs": []
    },
    {
     "cell_type": "code",
     "collapsed": false,
     "input": [
      "f = figure()\n",
      "bar(mesh.full(), bins, mesh.start_interval[0], align='center', edgecolor='none')\n",
      "plot(xs.full(), pdf, color='red', label='KDE')\n",
      "xlim(-3, 5)\n",
      "legend(loc='best')"
     ],
     "language": "python",
     "metadata": {},
     "outputs": []
    },
    {
     "cell_type": "code",
     "collapsed": false,
     "input": [
      "from_binned = est.from_binned(mesh, bins*mesh.start_volume, normed=True)"
     ],
     "language": "python",
     "metadata": {},
     "outputs": []
    },
    {
     "cell_type": "code",
     "collapsed": true,
     "input": [
      "f = figure()\n",
      "bar(mesh.full(), bins, mesh.start_interval[0], align='center', edgecolor='none')\n",
      "plot(mesh.full(), from_binned, color='red', label='KDE')\n",
      "xlim(-3, 5)\n",
      "legend(loc='best')"
     ],
     "language": "python",
     "metadata": {},
     "outputs": []
    },
    {
     "cell_type": "code",
     "collapsed": false,
     "input": [
      "out = array(12)\n",
      "arr = array([1,2,3,4,5,65])\n",
      "arr.sum(out=out)"
     ],
     "language": "python",
     "metadata": {},
     "outputs": []
    },
    {
     "cell_type": "code",
     "collapsed": false,
     "input": [
      "r2 = c_[d1.rvs(1000), d1.rvs(1000)]\n",
      "mesh2, bins2 = fast_linbin.fast_linbin_nd(r2, [[-3, 5], [-3, 5]], 110)"
     ],
     "language": "python",
     "metadata": {},
     "outputs": []
    },
    {
     "cell_type": "code",
     "collapsed": false,
     "input": [
      "f = figure()\n",
      "m = mesh2.full('C')\n",
      "pcolormesh(m[0], m[1], bins2, cmap=cm.jet, shading='flat')\n",
      "axis('equal')\n",
      "xlim(-3, 5)\n",
      "ylim(-3, 5)\n",
      "colorbar()"
     ],
     "language": "python",
     "metadata": {},
     "outputs": []
    },
    {
     "cell_type": "code",
     "collapsed": false,
     "input": [
      "from_bins = est.from_binned(mesh2, bins2, axis=0)"
     ],
     "language": "python",
     "metadata": {},
     "outputs": []
    },
    {
     "cell_type": "code",
     "collapsed": false,
     "input": [
      "f = figure()\n",
      "m = mesh2.full('C')\n",
      "pcolormesh(m[0], m[1], from_bins, cmap=cm.jet, shading='flat')\n",
      "axis('equal')\n",
      "xlim(-3, 5)\n",
      "ylim(-3, 5)\n",
      "colorbar()"
     ],
     "language": "python",
     "metadata": {},
     "outputs": []
    },
    {
     "cell_type": "code",
     "collapsed": false,
     "input": [],
     "language": "python",
     "metadata": {},
     "outputs": []
    }
   ],
   "metadata": {}
  }
 ]
}